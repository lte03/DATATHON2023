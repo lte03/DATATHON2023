{
 "cells": [
  {
   "cell_type": "code",
   "execution_count": 1,
   "id": "a7249de8",
   "metadata": {},
   "outputs": [],
   "source": [
    "import os\n",
    "for dirname, _, filenames in os.walk('/kaggle/input'):\n",
    "    for filename in filenames:\n",
    "        print(os.path.join(dirname, filename))"
   ]
  },
  {
   "cell_type": "code",
   "execution_count": 5,
   "id": "872cfb61",
   "metadata": {},
   "outputs": [],
   "source": [
    "import pandas as pd\n",
    "import pandas\n",
    "egitim_verisi = pd.read_csv('train.csv')\n",
    "test_verisi = pd.read_csv('test_x.csv')"
   ]
  },
  {
   "cell_type": "code",
   "execution_count": 6,
   "id": "6e7ac7cc",
   "metadata": {},
   "outputs": [],
   "source": [
    "egitim_verisi[\"Cinsiyet\"] =egitim_verisi[\"Cinsiyet\"].replace([\"Erkek\"],1)\n",
    "egitim_verisi[\"Cinsiyet\"] =egitim_verisi[\"Cinsiyet\"].replace([\"Kadın\"],0)"
   ]
  },
  {
   "cell_type": "code",
   "execution_count": 7,
   "id": "78aa922b",
   "metadata": {},
   "outputs": [],
   "source": [
    "egitim_verisi = pandas.get_dummies(egitim_verisi, columns=['Yaş Grubu','Medeni Durum','Eğitim Düzeyi','Yaşadığı Şehir', 'İstihdam Durumu','Eğitime Devam Etme Durumu', 'En Çok İlgilendiği Ürün Grubu'])"
   ]
  },
  {
   "cell_type": "code",
   "execution_count": 8,
   "id": "c2741ce2",
   "metadata": {},
   "outputs": [],
   "source": [
    "test_verisi[\"Cinsiyet\"] =test_verisi[\"Cinsiyet\"].replace([\"Erkek\"],1)\n",
    "test_verisi[\"Cinsiyet\"] =test_verisi[\"Cinsiyet\"].replace([\"Kadın\"],0)\n",
    "test_verisi = pandas.get_dummies(test_verisi, columns=['Yaş Grubu','Medeni Durum','Eğitim Düzeyi','Yaşadığı Şehir', 'İstihdam Durumu','Eğitime Devam Etme Durumu', 'En Çok İlgilendiği Ürün Grubu'])"
   ]
  },
  {
   "cell_type": "code",
   "execution_count": 13,
   "id": "4ec96ed7",
   "metadata": {},
   "outputs": [
    {
     "name": "stderr",
     "output_type": "stream",
     "text": [
      "C:\\ProgramData\\Anaconda3\\lib\\site-packages\\sklearn\\neighbors\\_classification.py:228: FutureWarning: Unlike other reduction functions (e.g. `skew`, `kurtosis`), the default behavior of `mode` typically preserves the axis it acts along. In SciPy 1.11.0, this behavior will change: the default value of `keepdims` will become False, the `axis` over which the statistic is taken will be eliminated, and the value None will no longer be accepted. Set `keepdims` to True or False to avoid this warning.\n",
      "  mode, _ = stats.mode(_y[neigh_ind, k], axis=1)\n"
     ]
    }
   ],
   "source": [
    "egitim_verisi_hedefsiz= egitim_verisi.drop(['Öbek İsmi'], axis=1)\n",
    "from sklearn.neighbors import KNeighborsClassifier\n",
    "model = KNeighborsClassifier()\n",
    "model.fit(egitim_verisi_hedefsiz,egitim_verisi[\"Öbek İsmi\"])\n",
    "tahmin_sonuclari = model.predict(test_verisi)"
   ]
  },
  {
   "cell_type": "code",
   "execution_count": 14,
   "id": "d841a38a",
   "metadata": {},
   "outputs": [
    {
     "data": {
      "text/plain": [
       "array(['obek_3', 'obek_3', 'obek_1', ..., 'obek_7', 'obek_5', 'obek_6'],\n",
       "      dtype=object)"
      ]
     },
     "execution_count": 14,
     "metadata": {},
     "output_type": "execute_result"
    }
   ],
   "source": [
    "tahmin_sonuclari"
   ]
  },
  {
   "cell_type": "code",
   "execution_count": 15,
   "id": "761c18d7",
   "metadata": {},
   "outputs": [
    {
     "data": {
      "text/html": [
       "<div>\n",
       "<style scoped>\n",
       "    .dataframe tbody tr th:only-of-type {\n",
       "        vertical-align: middle;\n",
       "    }\n",
       "\n",
       "    .dataframe tbody tr th {\n",
       "        vertical-align: top;\n",
       "    }\n",
       "\n",
       "    .dataframe thead th {\n",
       "        text-align: right;\n",
       "    }\n",
       "</style>\n",
       "<table border=\"1\" class=\"dataframe\">\n",
       "  <thead>\n",
       "    <tr style=\"text-align: right;\">\n",
       "      <th></th>\n",
       "      <th>Öbek İsmi</th>\n",
       "    </tr>\n",
       "    <tr>\n",
       "      <th>id</th>\n",
       "      <th></th>\n",
       "    </tr>\n",
       "  </thead>\n",
       "  <tbody>\n",
       "    <tr>\n",
       "      <th>0</th>\n",
       "      <td>obek_3</td>\n",
       "    </tr>\n",
       "    <tr>\n",
       "      <th>1</th>\n",
       "      <td>obek_3</td>\n",
       "    </tr>\n",
       "    <tr>\n",
       "      <th>2</th>\n",
       "      <td>obek_1</td>\n",
       "    </tr>\n",
       "    <tr>\n",
       "      <th>3</th>\n",
       "      <td>obek_6</td>\n",
       "    </tr>\n",
       "    <tr>\n",
       "      <th>4</th>\n",
       "      <td>obek_3</td>\n",
       "    </tr>\n",
       "    <tr>\n",
       "      <th>...</th>\n",
       "      <td>...</td>\n",
       "    </tr>\n",
       "    <tr>\n",
       "      <th>2335</th>\n",
       "      <td>obek_8</td>\n",
       "    </tr>\n",
       "    <tr>\n",
       "      <th>2336</th>\n",
       "      <td>obek_2</td>\n",
       "    </tr>\n",
       "    <tr>\n",
       "      <th>2337</th>\n",
       "      <td>obek_7</td>\n",
       "    </tr>\n",
       "    <tr>\n",
       "      <th>2338</th>\n",
       "      <td>obek_5</td>\n",
       "    </tr>\n",
       "    <tr>\n",
       "      <th>2339</th>\n",
       "      <td>obek_6</td>\n",
       "    </tr>\n",
       "  </tbody>\n",
       "</table>\n",
       "<p>2340 rows × 1 columns</p>\n",
       "</div>"
      ],
      "text/plain": [
       "     Öbek İsmi\n",
       "id            \n",
       "0       obek_3\n",
       "1       obek_3\n",
       "2       obek_1\n",
       "3       obek_6\n",
       "4       obek_3\n",
       "...        ...\n",
       "2335    obek_8\n",
       "2336    obek_2\n",
       "2337    obek_7\n",
       "2338    obek_5\n",
       "2339    obek_6\n",
       "\n",
       "[2340 rows x 1 columns]"
      ]
     },
     "execution_count": 15,
     "metadata": {},
     "output_type": "execute_result"
    }
   ],
   "source": [
    "veri = {\n",
    "    'id': range(2340),\n",
    "    'Öbek İsmi': tahmin_sonuclari\n",
    "}\n",
    "Tahmin_Dataframe = pandas.DataFrame(veri)\n",
    "Tahmin_Dataframe.set_index('id', inplace=True)\n",
    "Tahmin_Dataframe"
   ]
  },
  {
   "cell_type": "code",
   "execution_count": 16,
   "id": "a780272d",
   "metadata": {},
   "outputs": [],
   "source": [
    "Tahmin_Dataframe.to_csv('submission.csv')"
   ]
  },
  {
   "cell_type": "code",
   "execution_count": null,
   "id": "88d89665",
   "metadata": {},
   "outputs": [],
   "source": []
  },
  {
   "cell_type": "code",
   "execution_count": null,
   "id": "29c66a19",
   "metadata": {},
   "outputs": [],
   "source": []
  }
 ],
 "metadata": {
  "kernelspec": {
   "display_name": "Python 3 (ipykernel)",
   "language": "python",
   "name": "python3"
  },
  "language_info": {
   "codemirror_mode": {
    "name": "ipython",
    "version": 3
   },
   "file_extension": ".py",
   "mimetype": "text/x-python",
   "name": "python",
   "nbconvert_exporter": "python",
   "pygments_lexer": "ipython3",
   "version": "3.9.13"
  }
 },
 "nbformat": 4,
 "nbformat_minor": 5
}
